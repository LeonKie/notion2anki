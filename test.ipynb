{
 "cells": [
  {
   "cell_type": "code",
   "execution_count": 1,
   "metadata": {},
   "outputs": [],
   "source": [
    "\n",
    "import os\n",
    "import notion_df\n",
    "notion_df.pandas() #That's it!\n",
    "import pandas as pd\n",
    "\n",
    "database_id=\"c47dc072-ec05-4737-a122-c2afb036cf76\"\n",
    "page_url=\"https://www.notion.so/leonkie/c47dc072ec054737a122c2afb036cf76?v=115ad9d0fdca484b8985869824d5b5bd\"\n",
    "\n",
    "df = pd.read_notion(page_url, api_key=os.environ.get(\"NOTION_PYTHON_SECRET\"))"
   ]
  },
  {
   "cell_type": "code",
   "execution_count": 19,
   "metadata": {},
   "outputs": [
    {
     "name": "stdout",
     "output_type": "stream",
     "text": [
      "Africa\n",
      "Kreuzkümmel\n",
      "Sunniten / Schiiten \n",
      "Testing Synced Blocks\n",
      "Logical Fallacies\n",
      "Prohibition\n",
      "Declutter\n",
      "Better search skills\n",
      "Testing new feature\n",
      "Code Snippets\n",
      "GPT-2\n",
      "Diazepam\n",
      "Schwadronieren\n",
      "Metastase\n",
      "Jordan Peterson\n"
     ]
    }
   ],
   "source": [
    "\n",
    "df_filtered=df[df.apply(lambda x: \"Knowledge\" == x.Type, axis=1)]\n",
    "\n",
    "for i in range(df_filtered.shape[0]):\n",
    "    name=df_filtered.iloc[i].Name\n",
    "    \n",
    "    "
   ]
  },
  {
   "cell_type": "code",
   "execution_count": 4,
   "metadata": {},
   "outputs": [
    {
     "ename": "ModuleNotFoundError",
     "evalue": "No module named 'wikipedia'",
     "output_type": "error",
     "traceback": [
      "\u001b[1;31m---------------------------------------------------------------------------\u001b[0m",
      "\u001b[1;31mModuleNotFoundError\u001b[0m                       Traceback (most recent call last)",
      "\u001b[1;32mc:\\Users\\kiesg\\Documents\\git\\notion2anki\\test.ipynb Cell 3'\u001b[0m in \u001b[0;36m<cell line: 1>\u001b[1;34m()\u001b[0m\n\u001b[1;32m----> <a href='vscode-notebook-cell:/c%3A/Users/kiesg/Documents/git/notion2anki/test.ipynb#ch0000002?line=0'>1</a>\u001b[0m \u001b[39mimport\u001b[39;00m \u001b[39mwikipedia\u001b[39;00m\n",
      "\u001b[1;31mModuleNotFoundError\u001b[0m: No module named 'wikipedia'"
     ]
    }
   ],
   "source": []
  }
 ],
 "metadata": {
  "interpreter": {
   "hash": "cef869ab7732c9f89e0f5fbc7094dd3680ca24500189c05dc6054de0b256d2e5"
  },
  "kernelspec": {
   "display_name": "Python 3.8.2 ('venv': venv)",
   "language": "python",
   "name": "python3"
  },
  "language_info": {
   "codemirror_mode": {
    "name": "ipython",
    "version": 3
   },
   "file_extension": ".py",
   "mimetype": "text/x-python",
   "name": "python",
   "nbconvert_exporter": "python",
   "pygments_lexer": "ipython3",
   "version": "3.8.2"
  },
  "orig_nbformat": 4
 },
 "nbformat": 4,
 "nbformat_minor": 2
}
